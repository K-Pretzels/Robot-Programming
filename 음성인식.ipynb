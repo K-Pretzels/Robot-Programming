{
 "cells": [
  {
   "cell_type": "markdown",
   "id": "07bc71a1",
   "metadata": {},
   "source": [
    "> # 원본코드"
   ]
  },
  {
   "cell_type": "code",
   "execution_count": null,
   "id": "33223c5e",
   "metadata": {},
   "outputs": [],
   "source": [
    "import speech_recognition as sr\n",
    "#import sys #-- 텍스트 저장 시 사용\n",
    "r = sr.Recognizer()\n",
    "with sr.Microphone() as source:\n",
    "    print(\"말씀하세요.\")\n",
    "    speech = r.listen(source)\n",
    "#sys.stdout = open(\"audio_output.txt\", \"w\") #-- 텍스트 저장 시 사용\n",
    "try:\n",
    "    audio = r.recognize_google(speech, language=\"ko-KR\")\n",
    "    print(\"<음성인식 결과>\\n \" + audio)       \n",
    "except sr.UnknownValueError:\n",
    "    print(\"Your speech can not understand\")\n",
    "except sr.RequestError as e:\n",
    "    print(\"Request Error!; {0}\".format(e))\n",
    "except KeyboardInterrupt:\n",
    "    pass\n",
    "#sys.stdout.close() #-- 텍스트 저장 시 사용\n"
   ]
  },
  {
   "cell_type": "markdown",
   "id": "48b1ec6b",
   "metadata": {},
   "source": [
    "> # 응용코드"
   ]
  },
  {
   "cell_type": "markdown",
   "id": "cb2791d5",
   "metadata": {},
   "source": [
    "### 마이크를 통하여 '직진','후진' 등을 인식하면 SerBot이 주행하는 코드 추가"
   ]
  },
  {
   "cell_type": "code",
   "execution_count": null,
   "id": "724faa06",
   "metadata": {},
   "outputs": [],
   "source": [
    "import speech_recognition as sr\n",
    "from pop import Pilot\n",
    "\n",
    "r = sr.Recognizer()\n",
    "bot = Pilot.SerBot()\n",
    "\n",
    "speed = 30\n",
    "\n",
    "while True:\n",
    "    with sr.Microphone() as source:\n",
    "        print(\"말씀하세요.\")\n",
    "        speech = r.listen(source)\n",
    "\n",
    "    try:\n",
    "        audio = r.recognize_google(speech, language=\"ko-KR\")\n",
    "        print(\"<음성인식 결과>\\n \" + audio)\n",
    "        if audio == '직진':\n",
    "            bot.setSpeed(speed)\n",
    "            bot.forward()\n",
    "        elif audio == '후진':\n",
    "            bot.setSpeed(speed)\n",
    "            bot.backward()\n",
    "        elif audio == '좌회전':\n",
    "            bot.move(270, speed)\n",
    "        elif audio == '우회전':\n",
    "            bot.move(90, speed)\n",
    "        elif audio == '빠르게':\n",
    "            speed = speed + 10\n",
    "            bot.forward()\n",
    "        elif audio == '느리게':\n",
    "            speed = speed - 10\n",
    "            bot.forward()\n",
    "\n",
    "    except sr.UnknownValueError:\n",
    "        print(\"Your speech can not understand\")\n",
    "    except sr.RequestError as e:\n",
    "        print(\"Request Error!; {0}\".format(e))\n",
    "    except KeyboardInterrupt:\n",
    "        break\n"
   ]
  },
  {
   "cell_type": "markdown",
   "id": "46b8a9c2",
   "metadata": {},
   "source": [
    "> # gTTS를 통하여 오디오 파일 생성"
   ]
  },
  {
   "cell_type": "code",
   "execution_count": null,
   "id": "74865c47",
   "metadata": {},
   "outputs": [],
   "source": [
    "from gtts import gTTS\n",
    "\n",
    "tts = gTTS(text='다시 말씀해주세요', lang='ko')\n",
    "tts.save('re.wav')"
   ]
  },
  {
   "cell_type": "markdown",
   "id": "86e765e5",
   "metadata": {},
   "source": [
    "> # playsound 라이브러리를 이용하여 오디오 파일 재생"
   ]
  },
  {
   "cell_type": "code",
   "execution_count": null,
   "id": "ccbe653c",
   "metadata": {},
   "outputs": [],
   "source": [
    "import speech_recognition as sr\n",
    "from pop import Pilot\n",
    "\n",
    "r = sr.Recognizer()\n",
    "bot = Pilot.SerBot()\n",
    "\n",
    "speed = 30\n",
    "\n",
    "while True:\n",
    "    with sr.Microphone() as source:\n",
    "        print(\"말씀하세요.\")\n",
    "        speech = r.listen(source)\n",
    "\n",
    "    try:\n",
    "        audio = r.recognize_google(speech, language=\"ko-KR\")\n",
    "        print(\"<음성인식 결과>\\n \" + audio)\n",
    "        if audio == '직진':\n",
    "            bot.setSpeed(speed)\n",
    "            bot.forward()\n",
    "            playsound(\"forward.wav\")\n",
    "        elif audio == '후진':\n",
    "            bot.setSpeed(speed)\n",
    "            bot.backward()\n",
    "            playsound(\"backward.wav\")\n",
    "        elif audio == '좌회전':\n",
    "            bot.move(270, speed)\n",
    "            playsound(\"left.wav\")\n",
    "        elif audio == '우회전':\n",
    "            bot.move(90, speed)\n",
    "            playsound(\"right.wav\")\n",
    "        elif audio == '빠르게':\n",
    "            playsound(\"faster.wav\")\n",
    "            speed = speed + 10\n",
    "            bot.forward()\n",
    "        elif audio == '느리게':\n",
    "            playsound(\"slower.wav\")\n",
    "            speed = speed - 10\n",
    "            bot.forward()\n",
    "\n",
    "    except sr.UnknownValueError:\n",
    "        print(\"Your speech can not understand\")\n",
    "    except sr.RequestError as e:\n",
    "        print(\"Request Error!; {0}\".format(e))\n",
    "    except KeyboardInterrupt:\n",
    "        break\n"
   ]
  },
  {
   "cell_type": "markdown",
   "id": "d9084cdd",
   "metadata": {},
   "source": [
    "> # listen 함수의 듣는 시간 설정"
   ]
  },
  {
   "cell_type": "markdown",
   "id": "4af40799",
   "metadata": {},
   "source": [
    "### - 말을 하고 인식된 말을 처리하는데 시간이 너무 오래 걸림\n",
    "### - phrase_time_limit = 3 으로 설정하면 한 번 실행될 때 3초에 한번 판단"
   ]
  },
  {
   "attachments": {
    "image.png": {
     "image/png": "[encoded data removed]"
    }
   },
   "cell_type": "markdown",
   "id": "2e19bc6a",
   "metadata": {},
   "source": [
    "![image.png](attachment:image.png)"
   ]
  },
  {
   "cell_type": "code",
   "execution_count": null,
   "id": "de105b2e",
   "metadata": {},
   "outputs": [],
   "source": [
    "import speech_recognition as sr\n",
    "from pop import Pilot\n",
    "\n",
    "r = sr.Recognizer()\n",
    "bot = Pilot.SerBot()\n",
    "\n",
    "speed = 30\n",
    "\n",
    "while True:\n",
    "    with sr.Microphone() as source:\n",
    "        print(\"말씀하세요.\")\n",
    "        speech = r.listen(source, phrase_time_limit=3)\n",
    "\n",
    "    try:\n",
    "        audio = r.recognize_google(speech, language=\"ko-KR\")\n",
    "        print(\"<음성인식 결과>\\n \" + audio)\n",
    "        if audio == '직진':\n",
    "            bot.setSpeed(speed)\n",
    "            bot.forward()\n",
    "            playsound(\"forward.wav\")\n",
    "        elif audio == '후진':\n",
    "            bot.setSpeed(speed)\n",
    "            bot.backward()\n",
    "            playsound(\"backward.wav\")\n",
    "        elif audio == '좌회전':\n",
    "            bot.move(270, speed)\n",
    "            playsound(\"left.wav\")\n",
    "        elif audio == '우회전':\n",
    "            bot.move(90, speed)\n",
    "            playsound(\"right.wav\")\n",
    "        elif audio == '빠르게':\n",
    "            playsound(\"faster.wav\")\n",
    "            speed = speed + 10\n",
    "            bot.forward()\n",
    "        elif audio == '느리게':\n",
    "            playsound(\"slower.wav\")\n",
    "            speed = speed - 10\n",
    "            bot.forward()\n",
    "\n",
    "    except sr.UnknownValueError:\n",
    "        print(\"Your speech can not understand\")\n",
    "    except sr.RequestError as e:\n",
    "        print(\"Request Error!; {0}\".format(e))\n",
    "    except KeyboardInterrupt:\n",
    "        break\n"
   ]
  },
  {
   "cell_type": "markdown",
   "id": "716f50f7",
   "metadata": {},
   "source": [
    "> # 미인식시 정지"
   ]
  },
  {
   "cell_type": "markdown",
   "id": "ec3eb5fc",
   "metadata": {},
   "source": [
    "### - count 변수를 추가하여 3번 이상 인식되는 말이 없을 시 정지"
   ]
  },
  {
   "attachments": {
    "image.png": {
     "image/png": "[encoded data removed]"
    }
   },
   "cell_type": "markdown",
   "id": "5c42f1d2",
   "metadata": {},
   "source": [
    "![image.png](attachment:image.png)"
   ]
  },
  {
   "cell_type": "markdown",
   "id": "b3e8a14e",
   "metadata": {},
   "source": [
    "### - 인식되면 count 초기화"
   ]
  },
  {
   "cell_type": "code",
   "execution_count": null,
   "id": "5b202150",
   "metadata": {},
   "outputs": [],
   "source": [
    "import speech_recognition as sr\n",
    "from pop import Pilot\n",
    "\n",
    "r = sr.Recognizer()\n",
    "bot = Pilot.SerBot()\n",
    "\n",
    "speed = 30\n",
    "count = 0\n",
    "\n",
    "while True:\n",
    "    with sr.Microphone() as source:\n",
    "        print(\"말씀하세요.\")\n",
    "        speech = r.listen(source, phrase_time_limit=3)\n",
    "\n",
    "    try:\n",
    "        audio = r.recognize_google(speech, language=\"ko-KR\")\n",
    "        print(\"<음성인식 결과>\\n \" + audio)\n",
    "        if audio == '직진':\n",
    "            bot.setSpeed(speed)\n",
    "            bot.forward()\n",
    "            playsound(\"forward.wav\")\n",
    "        elif audio == '후진':\n",
    "            bot.setSpeed(speed)\n",
    "            bot.backward()\n",
    "            playsound(\"backward.wav\")\n",
    "        elif audio == '좌회전':\n",
    "            bot.move(270, speed)\n",
    "            playsound(\"left.wav\")\n",
    "        elif audio == '우회전':\n",
    "            bot.move(90, speed)\n",
    "            playsound(\"right.wav\")\n",
    "        elif audio == '빠르게':\n",
    "            playsound(\"faster.wav\")\n",
    "            speed = speed + 10\n",
    "            bot.forward()\n",
    "        elif audio == '느리게':\n",
    "            playsound(\"slower.wav\")\n",
    "            speed = speed - 10\n",
    "            bot.forward()\n",
    "            \n",
    "        count = 0\n",
    "\n",
    "    except sr.UnknownValueError:\n",
    "        print(\"Your speech can not understand\")\n",
    "        playsound(\"re.wav\")\n",
    "        count += 1\n",
    "        if count >= 3:\n",
    "            bot.stop()\n",
    "    except sr.RequestError as e:\n",
    "        print(\"Request Error!; {0}\".format(e))\n",
    "    except KeyboardInterrupt:\n",
    "        break\n"
   ]
  },
  {
   "cell_type": "markdown",
   "id": "370818c7",
   "metadata": {},
   "source": [
    "> # 최종코드"
   ]
  },
  {
   "cell_type": "markdown",
   "id": "8034e3bc",
   "metadata": {},
   "source": [
    "### - 인식 정확도 매우 높지 않음\n",
    "### - 특정 단어가 포함되어 있을 시 특정 주행"
   ]
  },
  {
   "attachments": {
    "image.png": {
     "image/png": "[encoded data removed]"
    }
   },
   "cell_type": "markdown",
   "id": "cd7c4682",
   "metadata": {},
   "source": [
    "![image.png](attachment:image.png)"
   ]
  },
  {
   "cell_type": "code",
   "execution_count": null,
   "id": "ce65403d",
   "metadata": {},
   "outputs": [],
   "source": [
    "import speech_recognition as sr\n",
    "from pop import Pilot\n",
    "import re\n",
    "from playsound import playsound\n",
    "\n",
    "r = sr.Recognizer()\n",
    "bot = Pilot.SerBot()\n",
    "\n",
    "speed = 30\n",
    "bot.setSpeed(speed)\n",
    "\n",
    "count = 0\n",
    "\n",
    "while True:\n",
    "    with sr.Microphone() as source:\n",
    "        print(\"말씀하세요.\")\n",
    "        speech = r.listen(source, phrase_time_limit=3)\n",
    "\n",
    "    try:\n",
    "        audio = r.recognize_google(speech, language=\"ko-KR\")\n",
    "        print(\"<음성인식 결과>\\n \" + audio)\n",
    "        if re.search(\"전진|앞\", audio): # 정규표현식으로 'ㅈㅈ' 포함 여부 확인\n",
    "            bot.forward()\n",
    "            playsound(\"forward.wav\")\n",
    "        elif re.search(\"후진|뒤\", audio):\n",
    "            bot.backward()\n",
    "            playsound(\"backward.wav\")\n",
    "        elif re.search(\"좌|왼\", audio):\n",
    "            bot.move(270, speed)\n",
    "            playsound(\"left.wav\")\n",
    "        elif re.search(\"우|오\", audio):\n",
    "            bot.move(90, speed)\n",
    "            playsound(\"right.wav\")\n",
    "        elif re.search(\"빠르|빨\", audio):\n",
    "            playsound(\"faster.wav\")\n",
    "            speed = 60\n",
    "            bot.setSpeed(speed)\n",
    "            bot.forward()\n",
    "        elif re.search(\"느리|천천\", audio):\n",
    "            playsound(\"slower.wav\")\n",
    "            speed = 30\n",
    "            bot.setSpeed(speed)\n",
    "            bot.forward()\n",
    "        elif re.search(\"멈|스탑\", audio):\n",
    "            playsound(\"stop.wav\")\n",
    "            bot.stop()\n",
    "\n",
    "        count = 0\n",
    "\n",
    "    except sr.UnknownValueError:\n",
    "        #bot.stop()\n",
    "        print(\"Your speech can not understand\")\n",
    "        playsound(\"re.wav\")\n",
    "        count += 1\n",
    "        if count >= 3:\n",
    "            #playsound(\"stop.wav\")\n",
    "            bot.stop()\n",
    "    except sr.RequestError as e:\n",
    "        print(\"Request Error!; {0}\".format(e))\n",
    "    except KeyboardInterrupt:\n",
    "        break\n"
   ]
  }
 ],
 "metadata": {
  "kernelspec": {
   "display_name": "Python 3 (ipykernel)",
   "language": "python",
   "name": "python3"
  },
  "language_info": {
   "codemirror_mode": {
    "name": "ipython",
    "version": 3
   },
   "file_extension": ".py",
   "mimetype": "text/x-python",
   "name": "python",
   "nbconvert_exporter": "python",
   "pygments_lexer": "ipython3",
   "version": "3.10.9"
  }
 },
 "nbformat": 4,
 "nbformat_minor": 5
}
